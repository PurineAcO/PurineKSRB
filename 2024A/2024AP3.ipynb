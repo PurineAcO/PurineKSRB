{
 "cells": [
  {
   "cell_type": "markdown",
   "id": "2b72228a",
   "metadata": {},
   "source": [
    "### 2024A Problem 3"
   ]
  },
  {
   "cell_type": "markdown",
   "id": "ba422a5f",
   "metadata": {},
   "source": [
    "##### 粗略搜索(暴力搜索法)\n",
    "根据题意,需要寻找 $\\min p$ ,使得满足以下三个条件:\n",
    "$$ 0.3 < p <0.55\\tag{1}$$\n",
    "$$ \\frac{p\\theta_{0}(t_{0})}{2\\pi}=4.5\\tag{2}$$\n",
    "$$ \\min_{t\\in(0,t_{0}),i,j}\\min\\{d_{A}(t,i,j)-d_{B}(t,i,j)\\}\\ge 0.15\\tag{3}$$\n",
    "先粗略搜索 $p$ ,满足 $(1)$ 条件下,观察能否满足 $(3)$\n",
    "\n",
    "结果表明:当 $p<0.47$ 时,将会出现满足题意的解."
   ]
  },
  {
   "cell_type": "code",
   "execution_count": 4,
   "id": "b8eac1b7",
   "metadata": {},
   "outputs": [
    {
     "name": "stdout",
     "output_type": "stream",
     "text": [
      "searching: 412.47381\n",
      "searching: 412.473811\n",
      "searching: 412.473812\n",
      "searching: 412.473813\n",
      "searching: 412.473814\n",
      "searching: 412.473815\n",
      "searching: 412.473816\n",
      "searching: 412.473817\n",
      "searching: 412.473818\n",
      "searching: 412.473819\n",
      "searching: 412.47382\n",
      "searching: 412.473821\n",
      "searching: 412.473822\n",
      "searching: 412.473823\n",
      "searching: 412.473824\n",
      "searching: 412.473825\n",
      "searching: 412.473826\n",
      "searching: 412.47382699999997\n",
      "searching: 412.47382799999997\n",
      "searching: 412.47382899999997\n",
      "searching: 412.47382999999996\n",
      "searching: 412.47383099999996\n",
      "searching: 412.47383199999996\n",
      "searching: 412.47383299999996\n",
      "searching: 412.47383399999995\n",
      "searching: 412.47383499999995\n",
      "searching: 412.47383599999995\n",
      "searching: 412.47383699999995\n",
      "searching: 412.47383799999994\n",
      "searching: 412.47383899999994\n",
      "searching: 412.47383999999994\n",
      "searching: 412.47384099999994\n",
      "searching: 412.47384199999993\n",
      "searching: 412.47384299999993\n",
      "searching: 412.47384399999993\n",
      "searching: 412.4738449999999\n",
      "searching: 412.4738459999999\n",
      "searching: 412.4738469999999\n",
      "searching: 412.4738479999999\n",
      "searching: 412.4738489999999\n",
      "searching: 412.4738499999999\n",
      "searching: 412.4738509999999\n",
      "searching: 412.4738519999999\n",
      "searching: 412.4738529999999\n",
      "searching: 412.4738539999999\n",
      "searching: 412.4738549999999\n",
      "searching: 412.4738559999999\n",
      "searching: 412.4738569999999\n",
      "searching: 412.4738579999999\n",
      "searching: 412.4738589999999\n",
      "time is: 412.47383799999994 ,distance(abs) is: 8.160710491201682e-09\n"
     ]
    }
   ],
   "source": [
    "import supplement\n",
    "import numpy as np\n",
    "\n",
    "# test P2 \n",
    "\n",
    "t_start=412.47381 #390\n",
    "t_end=412.47386 #420\n",
    "step=0.000001 #0.5\n",
    "\n",
    "able_crash=[]\n",
    "\n",
    "for t in np.arange(t_start,t_end,step):\n",
    "    print(\"searching:\",t)\n",
    "    solve=supplement.solver(0.55,t)\n",
    "    solve.solvedh()\n",
    "    solve.solvedg()\n",
    "    ifcrash=solve.solvecrash(1e-7)\n",
    "    if ifcrash[0]==True:able_crash.append((t,ifcrash[1]))\n",
    "    \n",
    "\n",
    "mindistance=min(able_crash,key=lambda x:x[1])[1]\n",
    "for crasher in able_crash:\n",
    "    if crasher[1]==mindistance:\n",
    "        print(\"time is:\",crasher[0],\",distance(abs) is:\",crasher[1])"
   ]
  },
  {
   "cell_type": "code",
   "execution_count": null,
   "id": "4c9cbe63",
   "metadata": {},
   "outputs": [],
   "source": [
    "import supplement\n",
    "import numpy as np\n",
    "\n",
    "p_start=0.4504\n",
    "p_end=0.45\n",
    "p_step=0.00001\n",
    "\n",
    "t_start=250\n",
    "t_end=430\n",
    "t_step=0.1\n",
    "\n",
    "result1=[]\n",
    "\n",
    "for p in np.arange(p_start,p_end,-p_step):\n",
    "    for t in np.arange(t_start,t_end,t_step):\n",
    "        print(\"searching:\",(p,t))\n",
    "        solve=supplement.solver(p,t)\n",
    "        if t>solve.totallength:break\n",
    "\n",
    "        solve.solvedh()\n",
    "        ifcrash=False\n",
    "        if solve.kp*solve.thetatable[0]<4.5:\n",
    "            solve.solvedg()\n",
    "            ifcrash=solve.solvecrash(1e-6)[0]\n",
    "            result1.append((p,t,ifcrash))\n",
    "\n",
    "for resulter in result1:\n",
    "    if resulter[2]==True:\n",
    "        print(resulter)"
   ]
  }
 ],
 "metadata": {
  "kernelspec": {
   "display_name": "GJSB",
   "language": "python",
   "name": "python3"
  },
  "language_info": {
   "codemirror_mode": {
    "name": "ipython",
    "version": 3
   },
   "file_extension": ".py",
   "mimetype": "text/x-python",
   "name": "python",
   "nbconvert_exporter": "python",
   "pygments_lexer": "ipython3",
   "version": "3.12.10"
  }
 },
 "nbformat": 4,
 "nbformat_minor": 5
}
